{
 "cells": [
  {
   "cell_type": "markdown",
   "metadata": {},
   "source": [
    "# Creation of database, table and assignment of privileges\n",
    "- The database is named `crimes_db`, the table is named `boston_crimes` which is wrapped in the schema named `crimes`.\n",
    "- The rows in the table are filled with the data from `boston.csv` file\n",
    "- Finally, two groups `readonly` and `readwrite` are created and one user is assigned for each group, with respective privileges defined."
   ]
  },
  {
   "cell_type": "code",
   "execution_count": 91,
   "metadata": {
    "collapsed": false
   },
   "outputs": [],
   "source": [
    "\"\"\" create a database and schema\"\"\"\n",
    "import psycopg2\n",
    "conn = psycopg2.connect(dbname ='dq',user='dq')\n",
    "conn.autocommit = True\n",
    "cur=conn.cursor()\n",
    "#cur.execute('CREATE DATABASE crime_db') # Avoid re-creation\n",
    "conn.autocommit = False\n",
    "conn.close()\n"
   ]
  },
  {
   "cell_type": "code",
   "execution_count": 92,
   "metadata": {
    "collapsed": true
   },
   "outputs": [],
   "source": [
    "\"\"\"create database, crime_db\"\"\"\n",
    "conn= psycopg2.connect(dbname ='crime_db',user='dq')\n",
    "cur = conn.cursor()\n",
    "cur.execute(\"CREATE SCHEMA crimes\") #avoid re-creation"
   ]
  },
  {
   "cell_type": "code",
   "execution_count": 93,
   "metadata": {
    "collapsed": false
   },
   "outputs": [
    {
     "name": "stdout",
     "output_type": "stream",
     "text": [
      "['incident_number', 'offense_code', 'description', 'date', 'day_of_the_week', 'lat', 'long']\n",
      "['1', '619', 'LARCENY ALL OTHERS', '2018-09-02', 'Sunday', '42.35779134', '-71.13937053']\n"
     ]
    }
   ],
   "source": [
    "\"\"\"Read the first two lines from the boston.csv file\"\"\"\n",
    "import csv\n",
    "with open(\"boston.csv\", 'r') as f:\n",
    "    reader = list(csv.reader(f))\n",
    "col_headers = reader[0]\n",
    "first_row = reader[1]\n",
    "print(col_headers)\n",
    "print(first_row)"
   ]
  },
  {
   "cell_type": "code",
   "execution_count": 94,
   "metadata": {
    "collapsed": false
   },
   "outputs": [
    {
     "name": "stdout",
     "output_type": "stream",
     "text": [
      "298329\n",
      "219\n",
      "239\n",
      "1177\n",
      "7\n",
      "18177\n",
      "18177\n"
     ]
    }
   ],
   "source": [
    "\"\"\"define get_col_set(): given a file and index,\n",
    "    returns all the entries in a column specified by the index \"\"\"\n",
    "def get_col_set(csv_filename, col_index):\n",
    "    col_set = set()\n",
    "    with open(csv_filename) as f:\n",
    "        next(f)\n",
    "        rows = csv.reader(f)\n",
    "        for row in rows:\n",
    "            col_set.add(row[col_index])\n",
    "    return col_set\n",
    "for i in range(7):\n",
    "    print(len(get_col_set(\"boston.csv\",i)))\n",
    "# column 5, (i.e. index 4) has lowest distinct members,\n",
    "# hence a good candidate for enumerated datatypes             "
   ]
  },
  {
   "cell_type": "code",
   "execution_count": 95,
   "metadata": {
    "collapsed": false
   },
   "outputs": [
    {
     "name": "stdout",
     "output_type": "stream",
     "text": [
      "['incident_number', 'offense_code', 'description', 'date', 'day_of_the_week', 'lat', 'long']\n",
      "['1', '619', 'LARCENY ALL OTHERS', '2018-09-02', 'Sunday', '42.35779134', '-71.13937053']\n",
      "RECOVERED - MV RECOVERED IN BOSTON (STOLEN OUTSIDE BOSTON)\n",
      "58\n"
     ]
    }
   ],
   "source": [
    "\"\"\"Determine the maximum length of each value in the description column\"\"\"\n",
    "print(col_headers)\n",
    "print(first_row)\n",
    "col_values = get_col_set(\"boston.csv\",2)\n",
    "# which value has maximum length?\n",
    "max_val = 0\n",
    "max_str = \" \"\n",
    "for entry in col_values:\n",
    "    if len(entry)>max_val:\n",
    "        max_val = len(entry)\n",
    "        max_str = entry\n",
    "print(max_str)\n",
    "print(max_val)"
   ]
  },
  {
   "cell_type": "code",
   "execution_count": 96,
   "metadata": {
    "collapsed": false,
    "scrolled": true
   },
   "outputs": [
    {
     "name": "stdout",
     "output_type": "stream",
     "text": [
      "{'Sunday', 'Tuesday', 'Saturday', 'Thursday', 'Friday', 'Wednesday', 'Monday'}\n"
     ]
    }
   ],
   "source": [
    "enum_val = get_col_set(\"boston.csv\",4)\n",
    "print(enum_val)\n",
    "q = \"\"\" CREATE TYPE enum_weekday AS ENUM (\n",
    "'Sunday','Tuesday', 'Saturday', 'Thursday','Friday','Wednesday','Monday'); \"\"\"\n",
    "cur.execute(q)\n",
    "\n",
    "\n"
   ]
  },
  {
   "cell_type": "markdown",
   "metadata": {},
   "source": [
    "# Data Type Choices\n",
    "- For the column `day_of_the_week`, enumerated datatype is used because the values are few.\n",
    "- The `lat` and `long` columns use floats because the values are about 8 decimal places\n",
    "- The `description` column is assigned variable character length"
   ]
  },
  {
   "cell_type": "code",
   "execution_count": 97,
   "metadata": {
    "collapsed": false
   },
   "outputs": [],
   "source": [
    "q1 = \"\"\"CREATE TABLE crimes.boston_crimes(\n",
    "        incident_number integer PRIMARY KEY,\n",
    "        offence_code integer,\n",
    "        description varchar(100),\n",
    "        date date,\n",
    "        day_of_the_week enum_weekday,\n",
    "        lat float,\n",
    "        long float)\"\"\"\n",
    "cur.execute(q1)"
   ]
  },
  {
   "cell_type": "code",
   "execution_count": 98,
   "metadata": {
    "collapsed": true
   },
   "outputs": [],
   "source": [
    "\"\"\"Load data into the table: boston_crimes\"\"\"\n",
    "with open(\"boston.csv\", mode= \"r\") as f:\n",
    "    cur.copy_expert(\"COPY crimes.boston_crimes FROM STDIN WITH CSV HEADER;\",f)"
   ]
  },
  {
   "cell_type": "code",
   "execution_count": 99,
   "metadata": {
    "collapsed": false,
    "scrolled": true
   },
   "outputs": [],
   "source": [
    "\"\"\"REVOKE all default privileges and GRANT privileges to new groups\"\"\"\n",
    "cur.execute(\"\"\"REVOKE ALL ON SCHEMA public FROM public; \"\"\")\n",
    "cur.execute(\"\"\"REVOKE ALL ON DATABASE crime_db FROM public; \"\"\")\n",
    "cur.execute(\"\"\"CREATE GROUP readonly NOLOGIN;\"\"\")\n",
    "cur.execute(\"\"\"CREATE GROUP readwrite NOLOGIN;\"\"\")\n",
    "cur.execute(\"\"\" GRANT connect ON DATABASE crime_db TO readonly;\"\"\")\n",
    "cur.execute(\"\"\" GRANT connect ON DATABASE crime_db TO readwrite;\"\"\")\n",
    "cur.execute(\"\"\"GRANT SELECT ON ALL TABLES IN SCHEMA crimes TO readonly\"\"\")\n",
    "cur.execute(\"\"\"GRANT SELECT, INSERT, DELETE, UPDATE ON ALL TABLES IN SCHEMA \n",
    "crimes TO readwrite\"\"\")"
   ]
  },
  {
   "cell_type": "code",
   "execution_count": 100,
   "metadata": {
    "collapsed": false
   },
   "outputs": [],
   "source": [
    "\"\"\" Create Users data_analyst and data_scientist\"\"\"\n",
    "cur.execute(\"\"\"CREATE USER data_analyst WITH CREATEDB PASSWORD 'secret1';\"\"\")\n",
    "cur.execute(\"\"\"GRANT readonly TO data_analyst;\"\"\")\n",
    "cur.execute(\"\"\"CREATE USER data_scientist WITH CREATEDB PASSWORD 'secret2';\"\"\")\n",
    "cur.execute(\"\"\"GRANT readwrite TO data_scientist;\"\"\")"
   ]
  },
  {
   "cell_type": "code",
   "execution_count": 101,
   "metadata": {
    "collapsed": false
   },
   "outputs": [
    {
     "data": {
      "text/plain": [
       "[('readwrite', 'INSERT'),\n",
       " ('readwrite', 'SELECT'),\n",
       " ('readwrite', 'UPDATE'),\n",
       " ('readwrite', 'DELETE')]"
      ]
     },
     "execution_count": 101,
     "metadata": {},
     "output_type": "execute_result"
    }
   ],
   "source": [
    "\"\"\"Check if the privileges are assigned appropriately\"\"\"\n",
    "q3 = \"\"\"SELECT grantee, privilege_type\n",
    "    FROM information_schema.table_privileges\n",
    "    WHERE grantee = 'readwrite';\"\"\"\n",
    "cur.execute(q3)\n",
    "cur.fetchall()"
   ]
  },
  {
   "cell_type": "code",
   "execution_count": 104,
   "metadata": {
    "collapsed": false
   },
   "outputs": [
    {
     "ename": "AttributeError",
     "evalue": "'psycopg2._psycopg.cursor' object has no attribute 'table'",
     "output_type": "error",
     "traceback": [
      "\u001b[1;31m\u001b[0m",
      "\u001b[1;31mAttributeError\u001b[0mTraceback (most recent call last)",
      "\u001b[1;32m<ipython-input-104-d358f8baab05>\u001b[0m in \u001b[0;36m<module>\u001b[1;34m()\u001b[0m\n\u001b[0;32m      1\u001b[0m \u001b[0mcur\u001b[0m\u001b[1;33m.\u001b[0m\u001b[0mexecute\u001b[0m\u001b[1;33m(\u001b[0m\u001b[1;34m\"\"\"SELECT rolname FROM pg_roles\"\"\"\u001b[0m\u001b[1;33m)\u001b[0m\u001b[1;33m\u001b[0m\u001b[0m\n\u001b[1;32m----> 2\u001b[1;33m \u001b[0mcur\u001b[0m\u001b[1;33m.\u001b[0m\u001b[0mtable\u001b[0m\u001b[1;33m\u001b[0m\u001b[0m\n\u001b[0m",
      "\u001b[1;31mAttributeError\u001b[0m: 'psycopg2._psycopg.cursor' object has no attribute 'table'"
     ]
    }
   ],
   "source": [
    "cur.execute(\"\"\"SELECT rolname FROM pg_roles\"\"\")\n",
    "cur."
   ]
  },
  {
   "cell_type": "code",
   "execution_count": null,
   "metadata": {
    "collapsed": true
   },
   "outputs": [],
   "source": []
  }
 ],
 "metadata": {
  "kernelspec": {
   "display_name": "Python 3",
   "language": "python",
   "name": "python3"
  },
  "language_info": {
   "codemirror_mode": {
    "name": "ipython",
    "version": 3
   },
   "file_extension": ".py",
   "mimetype": "text/x-python",
   "name": "python",
   "nbconvert_exporter": "python",
   "pygments_lexer": "ipython3",
   "version": "3.4.3"
  }
 },
 "nbformat": 4,
 "nbformat_minor": 2
}
