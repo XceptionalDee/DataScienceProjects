{
 "cells": [
  {
   "cell_type": "markdown",
   "metadata": {},
   "source": [
    "# Analyzing Mobile App Data\n",
    "An app building company wants to analyze 'free but in-app ads' apps that\n",
    "generates more revenue. Revenue generation is tightly linked with the user \n",
    "interactions with the ads.\n",
    "- some google apps have duplicate enteries, so the duplicates should be removed, and the function `unique_duplicate()` is responsible for this action.\n",
    "- The list `goog_clean` is a list of lists of uniques google apps with maximum reviews\n",
    "- We need to select high-performing apps in both App stores, and create \n",
    "a profile for each of those apps\n"
   ]
  },
  {
   "cell_type": "code",
   "execution_count": 42,
   "metadata": {},
   "outputs": [],
   "source": [
    "from csv import reader\n",
    "def open_file(filename):\n",
    "    \"\"\" open and read a file as a list of lists\"\"\"\n",
    "    opened_file = open(filename,encoding='utf8');\n",
    "    read_file = reader(opened_file);\n",
    "    read_file = list(read_file);\n",
    "    opened_file.close();\n",
    "    return read_file\n",
    "\n",
    "         "
   ]
  },
  {
   "cell_type": "code",
   "execution_count": 43,
   "metadata": {},
   "outputs": [],
   "source": [
    "def explore_data(dataset, start, end, rows_and_columns=False):\n",
    "    \"\"\"Print out a few rows for examination\n",
    "    and also determine the numbers of rows and columns\"\"\"\n",
    "    dataset_slice = dataset[start:end]    \n",
    "    for row in dataset_slice:\n",
    "        print(row)\n",
    "        print('\\n') # adds a new (empty) line after each row\n",
    "\n",
    "    if rows_and_columns:\n",
    "        print('Number of rows:', len(dataset))\n",
    "        print('Number of columns:', len(dataset[0]))"
   ]
  },
  {
   "cell_type": "code",
   "execution_count": 44,
   "metadata": {},
   "outputs": [],
   "source": [
    "apple_data = open_file('AppleStore.csv')\n",
    "goog_data = open_file('googleplaystore.csv')\n",
    "apple_header = apple_data[0]\n",
    "goog_header = goog_data[0]"
   ]
  },
  {
   "cell_type": "code",
   "execution_count": 45,
   "metadata": {},
   "outputs": [
    {
     "name": "stdout",
     "output_type": "stream",
     "text": [
      "['App', 'Category', 'Rating', 'Reviews', 'Size', 'Installs', 'Type', 'Price', 'Content Rating', 'Genres', 'Last Updated', 'Current Ver', 'Android Ver']\n",
      "\n",
      "\n",
      "['Photo Editor & Candy Camera & Grid & ScrapBook', 'ART_AND_DESIGN', '4.1', '159', '19M', '10,000+', 'Free', '0', 'Everyone', 'Art & Design', 'January 7, 2018', '1.0.0', '4.0.3 and up']\n",
      "\n",
      "\n",
      "['Coloring book moana', 'ART_AND_DESIGN', '3.9', '967', '14M', '500,000+', 'Free', '0', 'Everyone', 'Art & Design;Pretend Play', 'January 15, 2018', '2.0.0', '4.0.3 and up']\n",
      "\n",
      "\n",
      "['U Launcher Lite – FREE Live Cool Themes, Hide Apps', 'ART_AND_DESIGN', '4.7', '87510', '8.7M', '5,000,000+', 'Free', '0', 'Everyone', 'Art & Design', 'August 1, 2018', '1.2.4', '4.0.3 and up']\n",
      "\n",
      "\n",
      "['Sketch - Draw & Paint', 'ART_AND_DESIGN', '4.5', '215644', '25M', '50,000,000+', 'Free', '0', 'Teen', 'Art & Design', 'June 8, 2018', 'Varies with device', '4.2 and up']\n",
      "\n",
      "\n",
      "Number of rows: 10842\n",
      "Number of columns: 13\n"
     ]
    }
   ],
   "source": [
    "explore_data(goog_data, 0,5,  True)"
   ]
  },
  {
   "cell_type": "code",
   "execution_count": 46,
   "metadata": {},
   "outputs": [
    {
     "name": "stdout",
     "output_type": "stream",
     "text": [
      "number of rows 10842 and number of columns 13\n",
      "10473\n"
     ]
    }
   ],
   "source": [
    "\"\"\"Data Cleaning: remove incorrect data\"\"\"\n",
    "n_header = len(goog_data[0])\n",
    "n_rows = len(goog_data)\n",
    "print(f\"number of rows {n_rows} and number of columns {n_header}\") \n",
    "for index, row in zip(range(0,n_rows),goog_data):\n",
    "    if len(row)!= n_header:\n",
    "        print(index)\n"
   ]
  },
  {
   "cell_type": "code",
   "execution_count": 47,
   "metadata": {},
   "outputs": [
    {
     "name": "stdout",
     "output_type": "stream",
     "text": [
      "['Life Made WI-Fi Touchscreen Photo Frame', '1.9', '19', '3.0M', '1,000+', 'Free', '0', 'Everyone', '', 'February 11, 2018', '1.0.19', '4.0 and up']\n"
     ]
    }
   ],
   "source": [
    "#Remove row 10473\n",
    "print(goog_data[10473])\n",
    "del goog_data[10473]"
   ]
  },
  {
   "cell_type": "code",
   "execution_count": 48,
   "metadata": {},
   "outputs": [],
   "source": [
    "def unique_duplicate(dataset):\n",
    "    \"\"\"Determine the unique app names and those duplicates\"\"\"\n",
    "    unique_rows = []\n",
    "    duplicate_rows = []\n",
    "    for row in dataset[1:]:\n",
    "        if row[0] in unique_rows:\n",
    "            duplicate_rows.append(row[0])\n",
    "        else:\n",
    "            unique_rows.append(row[0])\n",
    "    return unique_rows, duplicate_rows\n"
   ]
  },
  {
   "cell_type": "code",
   "execution_count": 49,
   "metadata": {},
   "outputs": [
    {
     "name": "stdout",
     "output_type": "stream",
     "text": [
      "9659\n",
      "1181\n"
     ]
    }
   ],
   "source": [
    "unique_goog_apps, duplicate_goog_apps = unique_duplicate(goog_data)\n",
    "print(len(unique_goog_apps))\n",
    "print(len(duplicate_goog_apps))"
   ]
  },
  {
   "cell_type": "code",
   "execution_count": 50,
   "metadata": {},
   "outputs": [
    {
     "name": "stdout",
     "output_type": "stream",
     "text": [
      "9659\n"
     ]
    }
   ],
   "source": [
    "# select unique apps with the most reviews\n",
    "reviews_max = {}\n",
    "for row in goog_data[1:]:\n",
    "    name = row[0]\n",
    "    n_reviews = float(row[3])\n",
    "    if name in reviews_max and reviews_max[name] < n_reviews:\n",
    "        reviews_max[name] = n_reviews\n",
    "    if name not in reviews_max:\n",
    "        reviews_max[name] = n_reviews\n",
    "# Check reviews_max's length\n",
    "print(len(reviews_max))    "
   ]
  },
  {
   "cell_type": "code",
   "execution_count": 51,
   "metadata": {},
   "outputs": [
    {
     "name": "stdout",
     "output_type": "stream",
     "text": [
      "9659\n"
     ]
    }
   ],
   "source": [
    "# remove duplicates from google apps\n",
    "goog_clean = []\n",
    "already_added = []\n",
    "for row in goog_data[1:]:\n",
    "    name = row[0]\n",
    "    n_reviews = float(row[3])\n",
    "    if reviews_max[name] == n_reviews and name not in already_added:\n",
    "        goog_clean.append(row)\n",
    "        already_added.append(name)\n",
    "# check length of goog_clean for completeness\n",
    "print(len(goog_clean))\n"
   ]
  },
  {
   "cell_type": "code",
   "execution_count": 52,
   "metadata": {},
   "outputs": [],
   "source": [
    "# check for apps with non-English names or characters\n",
    "# if an app name has 3 or more characters that fail english character test, remove the app\n",
    "def foreign_characters(strings):\n",
    "    check = 0\n",
    "    for character in strings:\n",
    "        if ord(character) > 127:\n",
    "            check += True\n",
    "    if check >=3:\n",
    "        return False\n",
    "    else:\n",
    "        return True\n",
    "        "
   ]
  },
  {
   "cell_type": "code",
   "execution_count": 53,
   "metadata": {},
   "outputs": [
    {
     "name": "stdout",
     "output_type": "stream",
     "text": [
      "True\n",
      "False\n",
      "True\n",
      "True\n"
     ]
    }
   ],
   "source": [
    "# test foreign_characters()\n",
    "str_chk = ['Instagram','爱奇艺PPS -《欢乐颂2》电视剧热播','Docs To Go™ Free Office Suite','Instachat 😜']\n",
    "for entry in str_chk:\n",
    "    print(foreign_characters(entry))"
   ]
  },
  {
   "cell_type": "code",
   "execution_count": 54,
   "metadata": {},
   "outputs": [],
   "source": [
    "# clean English apps\n",
    "#goog_clean = goog_clean.insert(0,goog_header)\n",
    "goog_eng_apps = []\n",
    "apple_eng_apps = []\n",
    "for row in goog_clean[1:]:\n",
    "    if foreign_characters(row[0]):\n",
    "        goog_eng_apps.append(row)\n",
    "goog_eng_apps.insert(0,goog_header)        \n",
    "for row in apple_data[1:]:\n",
    "    if foreign_characters(row[0]):\n",
    "        apple_eng_apps.append(row)\n",
    "apple_eng_apps.insert(0,apple_header)"
   ]
  },
  {
   "cell_type": "code",
   "execution_count": 55,
   "metadata": {},
   "outputs": [
    {
     "name": "stdout",
     "output_type": "stream",
     "text": [
      "Number of Android Apps: 9596\n",
      "Number of Apple Apps: 7198\n"
     ]
    }
   ],
   "source": [
    "# check updated data\n",
    "print(f\"Number of Android Apps: {len(goog_eng_apps[1:])}\")\n",
    "print(f\"Number of Apple Apps: {len(apple_eng_apps)}\")"
   ]
  },
  {
   "cell_type": "code",
   "execution_count": 56,
   "metadata": {},
   "outputs": [
    {
     "name": "stdout",
     "output_type": "stream",
     "text": [
      "[['App', 'Category', 'Rating', 'Reviews', 'Size', 'Installs', 'Type', 'Price', 'Content Rating', 'Genres', 'Last Updated', 'Current Ver', 'Android Ver'], ['U Launcher Lite – FREE Live Cool Themes, Hide Apps', 'ART_AND_DESIGN', '4.7', '87510', '8.7M', '5,000,000+', 'Free', '0', 'Everyone', 'Art & Design', 'August 1, 2018', '1.2.4', '4.0.3 and up']]\n",
      "[['id', 'track_name', 'size_bytes', 'currency', 'price', 'rating_count_tot', 'rating_count_ver', 'user_rating', 'user_rating_ver', 'ver', 'cont_rating', 'prime_genre', 'sup_devices.num', 'ipadSc_urls.num', 'lang.num', 'vpp_lic'], ['284882215', 'Facebook', '389879808', 'USD', '0.0', '2974676', '212', '3.5', '3.5', '95.0', '4+', 'Social Networking', '37', '1', '29', '1']]\n",
      "0\n",
      "[['id', 'track_name', 'size_bytes', 'currency', 'price', 'rating_count_tot', 'rating_count_ver', 'user_rating', 'user_rating_ver', 'ver', 'cont_rating', 'prime_genre', 'sup_devices.num', 'ipadSc_urls.num', 'lang.num', 'vpp_lic'], ['284882215', 'Facebook', '389879808', 'USD', '0.0', '2974676', '212', '3.5', '3.5', '95.0', '4+', 'Social Networking', '37', '1', '29', '1']]\n"
     ]
    }
   ],
   "source": [
    "# Remove priced apps: we need free apps only\n",
    "print(goog_eng_apps[:2])\n",
    "print(apple_eng_apps[:2])\n",
    "# price indices: google [7] and apple [4]\n",
    "print(goog_eng_apps[1][7])\n",
    "print(apple_eng_apps[:2])"
   ]
  },
  {
   "cell_type": "code",
   "execution_count": 57,
   "metadata": {},
   "outputs": [],
   "source": [
    "#sort out the free apps\n",
    "def get_free_app(dataset, index):\n",
    "    free_app = []\n",
    "    for row in dataset[1:]:\n",
    "        price = row[index].replace('$', '') # remove dollar signs\n",
    "        price = float(price)\n",
    "        if price == 0.0:\n",
    "            free_app.append(row)\n",
    "    return free_app\n",
    "# apply function and check\n",
    "goog_eng_free_apps = get_free_app(goog_eng_apps, 7)\n",
    "apple_eng_free_apps = get_free_app(apple_eng_apps, 4)"
   ]
  },
  {
   "cell_type": "code",
   "execution_count": 58,
   "metadata": {},
   "outputs": [
    {
     "name": "stdout",
     "output_type": "stream",
     "text": [
      "8847\n",
      "4056\n"
     ]
    }
   ],
   "source": [
    "print(len(goog_eng_free_apps))\n",
    "print(len(apple_eng_free_apps))"
   ]
  },
  {
   "cell_type": "code",
   "execution_count": 59,
   "metadata": {},
   "outputs": [
    {
     "name": "stdout",
     "output_type": "stream",
     "text": [
      "['App', 'Category', 'Rating', 'Reviews', 'Size', 'Installs', 'Type', 'Price', 'Content Rating', 'Genres', 'Last Updated', 'Current Ver', 'Android Ver']\n",
      "['id', 'track_name', 'size_bytes', 'currency', 'price', 'rating_count_tot', 'rating_count_ver', 'user_rating', 'user_rating_ver', 'ver', 'cont_rating', 'prime_genre', 'sup_devices.num', 'ipadSc_urls.num', 'lang.num', 'vpp_lic']\n"
     ]
    }
   ],
   "source": [
    "print(goog_header)\n",
    "print(apple_header)"
   ]
  },
  {
   "cell_type": "code",
   "execution_count": 60,
   "metadata": {},
   "outputs": [],
   "source": [
    "def freq_table(dataset, index):\n",
    "    table = {}\n",
    "    col_total = 0\n",
    "    for row in dataset[1:]:\n",
    "        col_total += 1\n",
    "        if row[index] in table:\n",
    "            table[row[index]] += 1\n",
    "        else:\n",
    "            table[row[index]] = 1\n",
    "    for key in table:\n",
    "        table[key] = table[key] * 100 / col_total\n",
    "    return table"
   ]
  },
  {
   "cell_type": "code",
   "execution_count": null,
   "metadata": {},
   "outputs": [],
   "source": []
  },
  {
   "cell_type": "code",
   "execution_count": 61,
   "metadata": {},
   "outputs": [],
   "source": [
    "def display_table(dataset, index):\n",
    "    table = freq_table(dataset, index)\n",
    "    table_display = []\n",
    "    for key in table:\n",
    "        key_val_as_tuple = (table[key], key)\n",
    "        table_display.append(key_val_as_tuple)\n",
    "\n",
    "    table_sorted = sorted(table_display, reverse = True)\n",
    "    for entry in table_sorted:\n",
    "        print(entry[1], ':', entry[0])"
   ]
  },
  {
   "cell_type": "code",
   "execution_count": 62,
   "metadata": {},
   "outputs": [
    {
     "name": "stdout",
     "output_type": "stream",
     "text": [
      "Games : 55.6596794081381\n",
      "Entertainment : 8.236744759556103\n",
      "Photo & Video : 4.118372379778052\n",
      "Social Networking : 3.5018495684340323\n",
      "Education : 3.255240443896424\n",
      "Shopping : 2.9839704069050557\n",
      "Utilities : 2.6880394574599262\n",
      "Lifestyle : 2.318125770653514\n",
      "Finance : 2.0715166461159065\n",
      "Sports : 1.9482120838471024\n",
      "Health & Fitness : 1.87422934648582\n",
      "Music : 1.6522811344019728\n",
      "Book : 1.627620221948212\n",
      "Productivity : 1.528976572133169\n",
      "News : 1.4303329223181258\n",
      "Travel : 1.3810110974106042\n",
      "Food & Drink : 1.060419235511714\n",
      "Weather : 0.7644882860665845\n",
      "Reference : 0.4932182490752158\n",
      "Navigation : 0.4932182490752158\n",
      "Business : 0.4932182490752158\n",
      "Catalogs : 0.2219482120838471\n",
      "Medical : 0.19728729963008632\n"
     ]
    }
   ],
   "source": [
    "display_table(apple_eng_free_apps,11)"
   ]
  },
  {
   "cell_type": "markdown",
   "metadata": {},
   "source": [
    "# Analysis of frequency table for prime_genre column of App store data set\n",
    "- Game apps dominate the free-apps in English Language\n",
    "- The leading apps are fun-related apps, which means that users use the apps to de-stress\n",
    "- General impression: any app that brings some form of happiness and pastime will get more patronage\n",
    "- The number of apps per genre is a mere indication of the category of apps that is popular with the developers. A new developer might want to do something amazing the Medical genre, because it is not crowded yet."
   ]
  },
  {
   "cell_type": "code",
   "execution_count": 63,
   "metadata": {},
   "outputs": [
    {
     "name": "stdout",
     "output_type": "stream",
     "text": [
      "FAMILY : 18.946416459416685\n",
      "GAME : 9.699299118245534\n",
      "TOOLS : 8.455799231290978\n",
      "BUSINESS : 4.600949581731856\n",
      "PRODUCTIVITY : 3.900067827266561\n",
      "LIFESTYLE : 3.8887632828397014\n",
      "FINANCE : 3.707890572009948\n",
      "MEDICAL : 3.538322405607054\n",
      "SPORTS : 3.391363328057879\n",
      "PERSONALIZATION : 3.3235360614967218\n",
      "COMMUNICATION : 3.2330997060818447\n",
      "HEALTH_AND_FITNESS : 3.0861406285326702\n",
      "PHOTOGRAPHY : 2.950486095410355\n",
      "NEWS_AND_MAGAZINES : 2.8035270178611804\n",
      "SOCIAL : 2.667872484738865\n",
      "TRAVEL_AND_LOCAL : 2.3400406963599365\n",
      "SHOPPING : 2.24960434094506\n",
      "BOOKS_AND_REFERENCE : 2.136558896676464\n",
      "DATING : 1.8652498304318337\n",
      "VIDEO_PLAYERS : 1.797422563870676\n",
      "MAPS_AND_NAVIGATION : 1.3904589645037304\n",
      "FOOD_AND_DRINK : 1.2434998869545557\n",
      "EDUCATION : 1.1643680759665385\n",
      "ENTERTAINMENT : 0.9608862762830658\n",
      "LIBRARIES_AND_DEMO : 0.9382771874293466\n",
      "AUTO_AND_VEHICLES : 0.926972643002487\n",
      "HOUSE_AND_HOME : 0.8026226543070314\n",
      "WEATHER : 0.7913181098801718\n",
      "EVENTS : 0.7121862988921547\n",
      "PARENTING : 0.6556635767578567\n",
      "ART_AND_DESIGN : 0.6217499434772779\n",
      "COMICS : 0.6104453990504183\n",
      "BEAUTY : 0.5991408546235587\n"
     ]
    }
   ],
   "source": [
    "display_table(goog_eng_free_apps,1)"
   ]
  },
  {
   "cell_type": "markdown",
   "metadata": {},
   "source": [
    "# Analysis of frequency table for category column of Google App store data set\n",
    "- The family category top the table and it is followed by the Games.\n",
    "- The productivity-related apps tends to gain some grounds among google apps in English\n",
    "- In comparison with App stores, google users do not just use their apps to pastime, they are also productive with them.\n",
    "- If recommendation must be done, it will be for a developer who is looking to create a niche in a category."
   ]
  },
  {
   "cell_type": "code",
   "execution_count": 75,
   "metadata": {},
   "outputs": [],
   "source": [
    "def app_rating_freq(dataset, index):\n",
    "    rating_per_genre = {}\n",
    "    total_per_genre = {}\n",
    "    genre_index = 11\n",
    "    for row in dataset[1:]:\n",
    "        if row[genre_index] in rating_per_genre:\n",
    "            rating_per_genre[row[genre_index]] += float(row[index])\n",
    "            total_per_genre[row[genre_index]] += 1\n",
    "        else:\n",
    "            rating_per_genre[row[genre_index]] = float(row[index])\n",
    "            total_per_genre[row[genre_index]] = 1\n",
    "    for entry in rating_per_genre:\n",
    "        rating_per_genre[entry] = rating_per_genre[entry] / total_per_genre[entry]\n",
    "    return rating_per_genre"
   ]
  },
  {
   "cell_type": "code",
   "execution_count": 76,
   "metadata": {},
   "outputs": [
    {
     "name": "stdout",
     "output_type": "stream",
     "text": [
      "Reference : 67447.9\n",
      "Music : 56482.02985074627\n",
      "Weather : 47220.93548387097\n",
      "Social Networking : 32503.563380281692\n",
      "Photo & Video : 27249.892215568863\n",
      "Navigation : 25972.05\n",
      "Travel : 20216.01785714286\n",
      "Food & Drink : 20179.093023255813\n",
      "Sports : 20128.974683544304\n",
      "Health & Fitness : 19952.315789473683\n",
      "Productivity : 19053.887096774193\n",
      "Games : 18924.68896765618\n",
      "Shopping : 18746.677685950413\n",
      "News : 15892.724137931034\n",
      "Utilities : 14010.100917431193\n",
      "Finance : 13522.261904761905\n",
      "Entertainment : 10822.961077844311\n",
      "Lifestyle : 8978.308510638299\n",
      "Book : 8498.333333333334\n",
      "Business : 6367.8\n",
      "Education : 6266.333333333333\n",
      "Catalogs : 1779.5555555555557\n",
      "Medical : 459.75\n"
     ]
    }
   ],
   "source": [
    "table = app_rating_freq(apple_eng_free_apps, 5)\n",
    "table_list =sorted([(table[i],i) for i in table], reverse = True)\n",
    "def display(t):\n",
    "    for entry in t:\n",
    "        print(entry[1], \":\", entry[0])\n",
    "display(table_list)"
   ]
  },
  {
   "cell_type": "markdown",
   "metadata": {},
   "source": [
    "# Apple store app recommendation\n",
    "-There is not so much apps in the Reference genre and it is highly rated,\n",
    "therefore, an new app in the genre with extra and attractive features\n",
    "might be outstanding and have good market share."
   ]
  },
  {
   "cell_type": "code",
   "execution_count": 83,
   "metadata": {},
   "outputs": [],
   "source": [
    "def app_rating_freq(dataset, index, genre_index = 1):\n",
    "    rating_per_genre = {}\n",
    "    total_per_genre = {}\n",
    "    #genre_index = 11\n",
    "    for row in dataset[1:]:\n",
    "        if row[genre_index] in rating_per_genre:\n",
    "            row[index]=row[index].replace(',', '')\n",
    "            row[index]=row[index].replace('+','')\n",
    "            rating_per_genre[row[genre_index]] += float(row[index])\n",
    "            total_per_genre[row[genre_index]] += 1\n",
    "        else:\n",
    "            row[index] = row[index].replace(',','')\n",
    "            row[index] = row[index].replace('+','')\n",
    "            rating_per_genre[row[genre_index]] = float(row[index])\n",
    "            total_per_genre[row[genre_index]] = 1\n",
    "    for entry in rating_per_genre:\n",
    "        rating_per_genre[entry] = rating_per_genre[entry] / total_per_genre[entry]\n",
    "    return rating_per_genre"
   ]
  },
  {
   "cell_type": "code",
   "execution_count": 84,
   "metadata": {},
   "outputs": [
    {
     "data": {
      "text/plain": [
       "{'ART_AND_DESIGN': 1967474.5454545454,\n",
       " 'AUTO_AND_VEHICLES': 647317.8170731707,\n",
       " 'BEAUTY': 513151.88679245283,\n",
       " 'BOOKS_AND_REFERENCE': 8814199.78835979,\n",
       " 'BUSINESS': 1712290.1474201474,\n",
       " 'COMICS': 832613.8888888889,\n",
       " 'COMMUNICATION': 38590581.08741259,\n",
       " 'DATING': 854028.8303030303,\n",
       " 'EDUCATION': 1833495.145631068,\n",
       " 'ENTERTAINMENT': 11640705.88235294,\n",
       " 'EVENTS': 253542.22222222222,\n",
       " 'FINANCE': 1387692.475609756,\n",
       " 'FOOD_AND_DRINK': 1924897.7363636363,\n",
       " 'HEALTH_AND_FITNESS': 4188821.9853479853,\n",
       " 'HOUSE_AND_HOME': 1360598.042253521,\n",
       " 'LIBRARIES_AND_DEMO': 638503.734939759,\n",
       " 'LIFESTYLE': 1446158.2238372094,\n",
       " 'GAME': 15544014.51048951,\n",
       " 'FAMILY': 3695641.8198090694,\n",
       " 'MEDICAL': 120550.61980830671,\n",
       " 'SOCIAL': 23253652.127118643,\n",
       " 'SHOPPING': 7036877.311557789,\n",
       " 'PHOTOGRAPHY': 17840110.40229885,\n",
       " 'SPORTS': 3650602.276666667,\n",
       " 'TRAVEL_AND_LOCAL': 13984077.710144928,\n",
       " 'TOOLS': 10830251.970588235,\n",
       " 'PERSONALIZATION': 5201482.6122448975,\n",
       " 'PRODUCTIVITY': 16787331.344927534,\n",
       " 'PARENTING': 542603.6206896552,\n",
       " 'WEATHER': 5145550.285714285,\n",
       " 'VIDEO_PLAYERS': 24727872.452830188,\n",
       " 'NEWS_AND_MAGAZINES': 9549178.467741935,\n",
       " 'MAPS_AND_NAVIGATION': 4049274.6341463416}"
      ]
     },
     "execution_count": 84,
     "metadata": {},
     "output_type": "execute_result"
    }
   ],
   "source": [
    " app_rating_freq(goog_eng_free_apps, 5, genre_index = 1)"
   ]
  },
  {
   "cell_type": "markdown",
   "metadata": {},
   "source": [
    "# Google App St\n",
    "- I will be recommending an app in the art & design category because it has low number of apps in the category but it is highly downloaded."
   ]
  }
 ],
 "metadata": {
  "kernelspec": {
   "display_name": "Python 3",
   "language": "python",
   "name": "python3"
  },
  "language_info": {
   "codemirror_mode": {
    "name": "ipython",
    "version": 3
   },
   "file_extension": ".py",
   "mimetype": "text/x-python",
   "name": "python",
   "nbconvert_exporter": "python",
   "pygments_lexer": "ipython3",
   "version": "3.8.2"
  }
 },
 "nbformat": 4,
 "nbformat_minor": 2
}
