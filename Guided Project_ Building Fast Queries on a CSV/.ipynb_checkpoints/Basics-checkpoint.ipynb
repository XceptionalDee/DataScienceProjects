{
 "cells": [
  {
   "cell_type": "markdown",
   "metadata": {},
   "source": [
    "# Analysis of online laptop store\n",
    "The goal of this analysis is to answer the following business questions:\n",
    "- Given a laptop id, find the corresponding data.\n",
    "- Given an amount of money, find whether there are two laptops whose total price is that given amount.\n",
    "- Identify all laptops whose price falls within a given budget.\n",
    "- Preprocess data to make queries run faster (improve time complexity) "
   ]
  },
  {
   "cell_type": "code",
   "execution_count": 13,
   "metadata": {},
   "outputs": [
    {
     "name": "stdout",
     "output_type": "stream",
     "text": [
      "[['6571244', 'Apple', 'MacBook Pro', 'Ultrabook', '13.3', 'IPS Panel Retina Display 2560x1600', 'Intel Core i5 2.3GHz', '8GB', '128GB SSD', 'Intel Iris Plus Graphics 640', 'macOS', '1.37kg', '1339'], ['7287764', 'Apple', 'Macbook Air', 'Ultrabook', '13.3', '1440x900', 'Intel Core i5 1.8GHz', '8GB', '128GB Flash Storage', 'Intel HD Graphics 6000', 'macOS', '1.34kg', '898'], ['3362737', 'HP', '250 G6', 'Notebook', '15.6', 'Full HD 1920x1080', 'Intel Core i5 7200U 2.5GHz', '8GB', '256GB SSD', 'Intel HD Graphics 620', 'No OS', '1.86kg', '575'], ['9722156', 'Apple', 'MacBook Pro', 'Ultrabook', '15.4', 'IPS Panel Retina Display 2880x1800', 'Intel Core i7 2.7GHz', '16GB', '512GB SSD', 'AMD Radeon Pro 455', 'macOS', '1.83kg', '2537'], ['8550527', 'Apple', 'MacBook Pro', 'Ultrabook', '13.3', 'IPS Panel Retina Display 2560x1600', 'Intel Core i5 3.1GHz', '8GB', '256GB SSD', 'Intel Iris Plus Graphics 650', 'macOS', '1.37kg', '1803']]\n"
     ]
    }
   ],
   "source": [
    "from csv import reader\n",
    "with open('laptops.csv', mode = 'r', encoding = 'utf8') as file:\n",
    "    #next(file)\n",
    "    rows = list(reader(file))\n",
    "    header, rows = rows[0], rows[1:] # assign header and body to different lists\n",
    "print(rows[:5])"
   ]
  },
  {
   "cell_type": "code",
   "execution_count": 28,
   "metadata": {},
   "outputs": [
    {
     "name": "stdout",
     "output_type": "stream",
     "text": [
      "['Id', 'Company', 'Product', 'TypeName', 'Inches', 'ScreenResolution', 'Cpu', 'Ram', 'Memory', 'Gpu', 'OpSys', 'Weight', 'Price']\n",
      "1303\n",
      "<class 'str'>\n"
     ]
    },
    {
     "ename": "TypeError",
     "evalue": "'>' not supported between instances of 'list' and 'int'",
     "output_type": "error",
     "traceback": [
      "\u001b[0;31m---------------------------------------------------------------------------\u001b[0m",
      "\u001b[0;31mTypeError\u001b[0m                                 Traceback (most recent call last)",
      "\u001b[0;32m<ipython-input-28-2044db6aea31>\u001b[0m in \u001b[0;36m<module>\u001b[0;34m\u001b[0m\n\u001b[1;32m     59\u001b[0m \u001b[0mprint\u001b[0m\u001b[0;34m(\u001b[0m\u001b[0mlen\u001b[0m\u001b[0;34m(\u001b[0m\u001b[0mlaptops\u001b[0m\u001b[0;34m.\u001b[0m\u001b[0mrows\u001b[0m\u001b[0;34m)\u001b[0m\u001b[0;34m)\u001b[0m\u001b[0;34m\u001b[0m\u001b[0;34m\u001b[0m\u001b[0m\n\u001b[1;32m     60\u001b[0m \u001b[0mprint\u001b[0m\u001b[0;34m(\u001b[0m\u001b[0mtype\u001b[0m\u001b[0;34m(\u001b[0m\u001b[0mlaptops\u001b[0m\u001b[0;34m.\u001b[0m\u001b[0mrows\u001b[0m\u001b[0;34m[\u001b[0m\u001b[0;36m0\u001b[0m\u001b[0;34m]\u001b[0m\u001b[0;34m[\u001b[0m\u001b[0;36m0\u001b[0m\u001b[0;34m]\u001b[0m\u001b[0;34m)\u001b[0m\u001b[0;34m)\u001b[0m\u001b[0;34m\u001b[0m\u001b[0;34m\u001b[0m\u001b[0m\n\u001b[0;32m---> 61\u001b[0;31m \u001b[0mprint\u001b[0m\u001b[0;34m(\u001b[0m\u001b[0mlaptops\u001b[0m\u001b[0;34m.\u001b[0m\u001b[0mfind_first_laptop_more_expensive\u001b[0m\u001b[0;34m(\u001b[0m\u001b[0;36m1000\u001b[0m\u001b[0;34m)\u001b[0m\u001b[0;34m)\u001b[0m\u001b[0;34m\u001b[0m\u001b[0;34m\u001b[0m\u001b[0m\n\u001b[0m\u001b[1;32m     62\u001b[0m \u001b[0;34m\u001b[0m\u001b[0m\n",
      "\u001b[0;32m<ipython-input-28-2044db6aea31>\u001b[0m in \u001b[0;36mfind_first_laptop_more_expensive\u001b[0;34m(self, price)\u001b[0m\n\u001b[1;32m     52\u001b[0m        \u001b[0;32mreturn\u001b[0m \u001b[0mfound\u001b[0m\u001b[0;34m\u001b[0m\u001b[0;34m\u001b[0m\u001b[0m\n\u001b[1;32m     53\u001b[0m    \u001b[0;32mdef\u001b[0m \u001b[0mfind_first_laptop_more_expensive\u001b[0m\u001b[0;34m(\u001b[0m\u001b[0mself\u001b[0m\u001b[0;34m,\u001b[0m \u001b[0mprice\u001b[0m\u001b[0;34m)\u001b[0m\u001b[0;34m:\u001b[0m\u001b[0;34m\u001b[0m\u001b[0;34m\u001b[0m\u001b[0m\n\u001b[0;32m---> 54\u001b[0;31m        \u001b[0mprint\u001b[0m\u001b[0;34m(\u001b[0m\u001b[0mself\u001b[0m\u001b[0;34m.\u001b[0m\u001b[0mrows_by_price\u001b[0m\u001b[0;34m>\u001b[0m\u001b[0mprice\u001b[0m\u001b[0;34m)\u001b[0m\u001b[0;34m\u001b[0m\u001b[0;34m\u001b[0m\u001b[0m\n\u001b[0m\u001b[1;32m     55\u001b[0m \u001b[0;34m\u001b[0m\u001b[0m\n\u001b[1;32m     56\u001b[0m \u001b[0;34m\"\"\"Test the class constructor\"\"\"\u001b[0m\u001b[0;34m\u001b[0m\u001b[0;34m\u001b[0m\u001b[0m\n",
      "\u001b[0;31mTypeError\u001b[0m: '>' not supported between instances of 'list' and 'int'"
     ]
    }
   ],
   "source": [
    " \"\"\"Define a class Inventory to read the file\"\"\"  \n",
    "class Inventory():\n",
    "    def __init__(self, csv_filename):\n",
    "        with open(csv_filename, mode = 'r', encoding = 'utf8') as file:\n",
    "            #next(file)\n",
    "            rows = list(reader(file))\n",
    "            for row in rows[1:]:\n",
    "                row[-1] = int(row[-1])\n",
    "            self.header, self.rows = rows[0], rows[1:]\n",
    "            self.id_to_row = {}\n",
    "            self.prices = set()\n",
    "            def row_price(row):\n",
    "                return row[-1]\n",
    "            self.rows_by_price = sorted(self.rows, key = row_price)\n",
    "            #print(self.rows_by_price)\n",
    "            #pre-process self.rows into a dictionary\n",
    "            for row in self.rows:\n",
    "                self.id_to_row[row[0]]=row\n",
    "            for row in self.rows:\n",
    "                self.prices.add(int(row[-1]))\n",
    "    def get_laptop_from_id(self, laptop_id):\n",
    "        found = None\n",
    "        for row in self.rows:\n",
    "            if laptop_id == row[0]:\n",
    "                found = row\n",
    "        return found\n",
    "        \n",
    "    def get_laptop_from_id_fast(self, laptop_id):\n",
    "        found = None\n",
    "        if laptop_id in self.id_to_row.keys():\n",
    "            found = self.id_to_row[laptop_id]\n",
    "            return found\n",
    "    def check_promotion_dollars(self, dollars):\n",
    "        found = False\n",
    "        for row in rows[:10]:\n",
    "           # print(type(row[-1]))\n",
    "            if int(row[-1]) == dollars:\n",
    "                found = True\n",
    "        for row1 in rows:\n",
    "            for row2 in rows:\n",
    "                if int(row1[-1]) + int(row2[-1]) == dollars:\n",
    "                    found = True\n",
    "        return found\n",
    "    def check_promotion_dollars_fast(self, dollars):\n",
    "        found = False\n",
    "        if dollars in self.prices:\n",
    "            found = True\n",
    "        for row1 in self.rows:\n",
    "            for row2 in self.rows:\n",
    "                if int(row1[-1]) + int(row2[-1]) == dollars:\n",
    "                    found = True\n",
    "        return found\n",
    "    def find_first_laptop_more_expensive(self, price):\n",
    "        count = 0\n",
    "        for row in self.rows_by_price:\n",
    "            start_range = -1\n",
    "            count += 1\n",
    "            if int(row[-1])> price and start_range == -1:\n",
    "                start_range = count\n",
    "        return start_range\n",
    "\n",
    "\"\"\"Test the class constructor\"\"\"\n",
    "laptops = Inventory('laptops.csv')\n",
    "print(laptops.header)\n",
    "print(len(laptops.rows))\n",
    "print(type(laptops.rows[0][0]))\n",
    "print(laptops.find_first_laptop_more_expensive(1000))\n",
    "\n"
   ]
  },
  {
   "cell_type": "code",
   "execution_count": 15,
   "metadata": {},
   "outputs": [
    {
     "name": "stdout",
     "output_type": "stream",
     "text": [
      "['3362737', 'HP', '250 G6', 'Notebook', '15.6', 'Full HD 1920x1080', 'Intel Core i5 7200U 2.5GHz', '8GB', '256GB SSD', 'Intel HD Graphics 620', 'No OS', '1.86kg', 575]\n",
      "\n",
      "\n",
      "None\n",
      "['3362737', 'HP', '250 G6', 'Notebook', '15.6', 'Full HD 1920x1080', 'Intel Core i5 7200U 2.5GHz', '8GB', '256GB SSD', 'Intel HD Graphics 620', 'No OS', '1.86kg', 575]\n",
      "\n",
      "\n",
      "None\n"
     ]
    }
   ],
   "source": [
    "\"\"\"Define a search function to locate a laptop information from Inventory.\n",
    "   We need to update the inventory class with get_laptop_from_id_fast() method\n",
    "\"\"\"\n",
    "print(laptops.get_laptop_from_id('3362737'))\n",
    "print(\"\\n\")\n",
    "print(laptops.get_laptop_from_id('3362736'))\n",
    "\"\"\"Test updated inventory class\"\"\"\n",
    "print(laptops.get_laptop_from_id_fast('3362737'))\n",
    "print(\"\\n\")\n",
    "print(laptops.get_laptop_from_id_fast('3362736'))"
   ]
  },
  {
   "cell_type": "code",
   "execution_count": 16,
   "metadata": {},
   "outputs": [
    {
     "name": "stdout",
     "output_type": "stream",
     "text": [
      "['6579793', '6082742', '8856732', '3304441', '1841755']\n",
      "The times below \n",
      "\n",
      "1.2705676555633545\n",
      "0.006975412368774414\n"
     ]
    }
   ],
   "source": [
    "\"\"\" Time complexity test \"\"\"\n",
    "from time import time\n",
    "from random import randint\n",
    "ids = [str(randint(1000000,9999999)) for _ in range(10000)]\n",
    "#print samples\n",
    "print((ids[:5]))\n",
    "# check with method is faster\n",
    "total_time_no_dict = 0\n",
    "for id in ids:\n",
    "    start = time()\n",
    "    laptops.get_laptop_from_id(id)\n",
    "    end = time()\n",
    "    total_time_no_dict += end-start\n",
    "total_time_dict = 0\n",
    "for id in ids:\n",
    "    start = time()\n",
    "    laptops.get_laptop_from_id_fast(id)\n",
    "    end = time()\n",
    "    total_time_dict += end-start\n",
    "print('The times below \\n')\n",
    "print(total_time_no_dict)\n",
    "print(total_time_dict)"
   ]
  },
  {
   "cell_type": "markdown",
   "metadata": {},
   "source": [
    "\"\"\"\n",
    "Update the Inventory class to include a method for gift cards spending,\n",
    "call it check_promotion_dollars\n",
    "\"\"\""
   ]
  },
  {
   "cell_type": "code",
   "execution_count": 17,
   "metadata": {},
   "outputs": [
    {
     "name": "stdout",
     "output_type": "stream",
     "text": [
      "True\n",
      "False\n",
      "\n",
      "\n",
      "True\n",
      "False\n"
     ]
    }
   ],
   "source": [
    "print(laptops.check_promotion_dollars(1000))\n",
    "print(laptops.check_promotion_dollars(42))\n",
    "print(\"\\n\")\n",
    "print(laptops.check_promotion_dollars_fast(1000))\n",
    "print(laptops.check_promotion_dollars_fast(42))"
   ]
  },
  {
   "cell_type": "code",
   "execution_count": 18,
   "metadata": {},
   "outputs": [],
   "source": [
    "\"\"\"Performance Comparison\"\"\" \n",
    "prices = [randint(100, 5000) for _ in range(100)]\n",
    "\n",
    "\n",
    "    "
   ]
  },
  {
   "cell_type": "code",
   "execution_count": 19,
   "metadata": {},
   "outputs": [
    {
     "name": "stdout",
     "output_type": "stream",
     "text": [
      "88.4781391620636\n"
     ]
    }
   ],
   "source": [
    "total_time_no_set = 0\n",
    "for price in prices:\n",
    "    start = time()\n",
    "    laptops.check_promotion_dollars(price)\n",
    "    total_time_no_set += time() - start\n",
    "print(total_time_no_set)\n",
    "    \n"
   ]
  },
  {
   "cell_type": "code",
   "execution_count": 20,
   "metadata": {},
   "outputs": [
    {
     "name": "stdout",
     "output_type": "stream",
     "text": [
      "59.92816352844238\n"
     ]
    }
   ],
   "source": [
    "total_time_set = 0\n",
    "for price in prices:\n",
    "    start = time()\n",
    "    laptops.check_promotion_dollars_fast(price)\n",
    "    total_time_set += time() - start\n",
    "print(total_time_set)\n"
   ]
  },
  {
   "cell_type": "code",
   "execution_count": 21,
   "metadata": {},
   "outputs": [
    {
     "ename": "TypeError",
     "evalue": "'list' object is not callable",
     "output_type": "error",
     "traceback": [
      "\u001b[0;31m---------------------------------------------------------------------------\u001b[0m",
      "\u001b[0;31mTypeError\u001b[0m                                 Traceback (most recent call last)",
      "\u001b[0;32m<ipython-input-21-052a43404ee9>\u001b[0m in \u001b[0;36m<module>\u001b[0;34m\u001b[0m\n\u001b[0;32m----> 1\u001b[0;31m \u001b[0mrows_by_price\u001b[0m \u001b[0;34m=\u001b[0m \u001b[0msorted\u001b[0m\u001b[0;34m(\u001b[0m\u001b[0mrows\u001b[0m\u001b[0;34m,\u001b[0m \u001b[0mkey\u001b[0m \u001b[0;34m=\u001b[0m \u001b[0;34m[\u001b[0m\u001b[0mrow\u001b[0m\u001b[0;34m[\u001b[0m\u001b[0;34m-\u001b[0m\u001b[0;36m1\u001b[0m\u001b[0;34m]\u001b[0m \u001b[0;32mfor\u001b[0m \u001b[0mrow\u001b[0m \u001b[0;32min\u001b[0m \u001b[0mrows\u001b[0m\u001b[0;34m]\u001b[0m\u001b[0;34m)\u001b[0m\u001b[0;34m\u001b[0m\u001b[0;34m\u001b[0m\u001b[0m\n\u001b[0m",
      "\u001b[0;31mTypeError\u001b[0m: 'list' object is not callable"
     ]
    }
   ],
   "source": [
    "rows_by_price = sorted(rows, key = [row[-1] for row in rows])"
   ]
  },
  {
   "cell_type": "code",
   "execution_count": null,
   "metadata": {},
   "outputs": [],
   "source": []
  }
 ],
 "metadata": {
  "kernelspec": {
   "display_name": "Python 3",
   "language": "python",
   "name": "python3"
  },
  "language_info": {
   "codemirror_mode": {
    "name": "ipython",
    "version": 3
   },
   "file_extension": ".py",
   "mimetype": "text/x-python",
   "name": "python",
   "nbconvert_exporter": "python",
   "pygments_lexer": "ipython3",
   "version": "3.8.2"
  }
 },
 "nbformat": 4,
 "nbformat_minor": 2
}
